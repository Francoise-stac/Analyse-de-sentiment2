{
 "cells": [
  {
   "cell_type": "code",
   "execution_count": 36,
   "id": "5788a162-fee2-4e4f-8f45-7739bac2624d",
   "metadata": {},
   "outputs": [],
   "source": [
    "from keras.datasets import imdb\n",
    "from sklearn.metrics import accuracy_score\n",
    "\n",
    "import numpy as np # linear algebra\n",
    "import pandas as pd # data processing, \n",
    "\n"
   ]
  },
  {
   "cell_type": "code",
   "execution_count": 37,
   "id": "07acc38f-bbdd-4d6a-868c-55a859381056",
   "metadata": {},
   "outputs": [],
   "source": [
    "(train_data, train_labels), (test_data, test_labels) = imdb.load_data(num_words=10000)"
   ]
  },
  {
   "cell_type": "markdown",
   "id": "6e80140d-38dd-40fd-b32c-c114264d16ae",
   "metadata": {},
   "source": [
    "# preprocessing \n"
   ]
  },
  {
   "cell_type": "code",
   "execution_count": 38,
   "id": "e961720f-2560-4558-928c-e630226a21aa",
   "metadata": {},
   "outputs": [],
   "source": [
    "(train_data, train_labels), (test_data, test_labels) = imdb.load_data(num_words=10000)\n",
    "# change the data into vectors\n",
    "\n",
    "import numpy as np\n",
    "from tensorflow import keras\n",
    "\n",
    "\n",
    "# Chargement des données IMDB\n",
    "# (train_data, train_labels), (test_data, test_labels) = keras.datasets.imdb.load_data(num_words=10000)\n",
    "\n",
    "# Pré-traitement des données : tronquer ou remplir les séquences\n",
    "max_sequence_length = 500  # Longueur maximale d'une séquence\n",
    "x_train = keras.preprocessing.sequence.pad_sequences(train_data, maxlen=max_sequence_length)\n",
    "x_test = keras.preprocessing.sequence.pad_sequences(test_data, maxlen=max_sequence_length)\n",
    "\n",
    "\n",
    "y_train = np.asarray(train_labels).astype('float32')\n",
    "y_test = np.asarray(test_labels).astype('float32')\n",
    "\n"
   ]
  },
  {
   "cell_type": "code",
   "execution_count": 39,
   "id": "68559d25-a7b8-4daa-81cb-8437c348f313",
   "metadata": {},
   "outputs": [
    {
     "data": {
      "text/plain": [
       "(25000, 12500000, 25000, (25000, 500))"
      ]
     },
     "execution_count": 39,
     "metadata": {},
     "output_type": "execute_result"
    }
   ],
   "source": [
    "# one hot encoding train_data.size,x_train.size, train_labels.size, x_train.shape \n",
    "#(25000, 250000000, 25000, (25000, 10000))\n",
    "train_data.size,x_train.size, train_labels.size, x_train.shape"
   ]
  },
  {
   "cell_type": "code",
   "execution_count": 40,
   "id": "98394f9b-7891-42ca-b0f9-329de551c1ef",
   "metadata": {},
   "outputs": [],
   "source": [
    "# # Create an embedding layer.\n",
    "# embedding_dim = 16\n",
    "# embedding = tf.keras.layers.Embedding(encoder.vocab_size, embedding_dim)"
   ]
  },
  {
   "cell_type": "code",
   "execution_count": 41,
   "id": "5b200d44-2f74-4228-916c-eebb4d528d43",
   "metadata": {},
   "outputs": [],
   "source": [
    "from keras import models\n",
    "from keras import layers\n",
    "from keras.layers import Embedding, LSTM, Dense\n",
    "\n",
    "model  = models.Sequential()\n",
    "# Ajoutez une couche d'embedding pour convertir les indices en vecteurs denses\n",
    "model.add(Embedding(input_dim=10000, output_dim=128, input_length=max_sequence_length))\n",
    "model.add(layers.Flatten())  # Flatten layer to flatten the 3D tensor from Embedding layer\n",
    "model.add(layers.Dense(16, activation='relu', input_shape=(10000,)))\n",
    "model.add(layers.Dense(16, activation='relu'))\n",
    "model.add(layers.Dense(16, activation='relu'))\n",
    "model.add(layers.Dense(1, activation='sigmoid'))"
   ]
  },
  {
   "cell_type": "code",
   "execution_count": 42,
   "id": "d89e4bd9-ff39-447d-b0b8-861f70dc403f",
   "metadata": {},
   "outputs": [],
   "source": [
    "x_val = x_train[:10000]\n",
    "partial_x_train = x_train[10000:]\n",
    "\n",
    "y_val = y_train[:10000]\n",
    "partial_y_train = y_train[10000:]"
   ]
  },
  {
   "cell_type": "markdown",
   "id": "b4631978-f543-46f3-8fe0-4c7d3d449a3e",
   "metadata": {},
   "source": [
    "## compiler et entrainer le modele avec une partie du jeu d'entrainement "
   ]
  },
  {
   "cell_type": "code",
   "execution_count": 43,
   "id": "ba633592-f59e-4f1b-8758-689fa64628a7",
   "metadata": {},
   "outputs": [
    {
     "name": "stdout",
     "output_type": "stream",
     "text": [
      "Epoch 1/20\n",
      "30/30 [==============================] - 5s 133ms/step - loss: 0.6933 - acc: 0.5045 - val_loss: 0.6931 - val_acc: 0.5037\n",
      "Epoch 2/20\n",
      "30/30 [==============================] - 4s 130ms/step - loss: 0.6923 - acc: 0.5330 - val_loss: 0.6925 - val_acc: 0.5258\n",
      "Epoch 3/20\n",
      "30/30 [==============================] - 4s 124ms/step - loss: 0.6896 - acc: 0.5636 - val_loss: 0.6898 - val_acc: 0.5314\n",
      "Epoch 4/20\n",
      "30/30 [==============================] - 4s 126ms/step - loss: 0.6763 - acc: 0.6056 - val_loss: 0.6917 - val_acc: 0.5142\n",
      "Epoch 5/20\n",
      "30/30 [==============================] - 4s 122ms/step - loss: 0.6032 - acc: 0.7039 - val_loss: 0.5903 - val_acc: 0.7242\n",
      "Epoch 6/20\n",
      "30/30 [==============================] - 4s 125ms/step - loss: 0.4539 - acc: 0.8187 - val_loss: 0.4530 - val_acc: 0.8057\n",
      "Epoch 7/20\n",
      "30/30 [==============================] - 4s 124ms/step - loss: 0.3078 - acc: 0.8871 - val_loss: 0.4089 - val_acc: 0.8093\n",
      "Epoch 8/20\n",
      "30/30 [==============================] - 4s 131ms/step - loss: 0.2012 - acc: 0.9327 - val_loss: 0.5001 - val_acc: 0.7823\n",
      "Epoch 9/20\n",
      "30/30 [==============================] - 4s 136ms/step - loss: 0.1280 - acc: 0.9626 - val_loss: 0.4465 - val_acc: 0.8172\n",
      "Epoch 10/20\n",
      "30/30 [==============================] - 4s 138ms/step - loss: 0.0713 - acc: 0.9830 - val_loss: 0.4383 - val_acc: 0.8293\n",
      "Epoch 11/20\n",
      "30/30 [==============================] - 4s 132ms/step - loss: 0.0372 - acc: 0.9937 - val_loss: 0.4583 - val_acc: 0.8319\n",
      "Epoch 12/20\n",
      "30/30 [==============================] - 4s 134ms/step - loss: 0.0278 - acc: 0.9925 - val_loss: 0.4890 - val_acc: 0.8324\n",
      "Epoch 13/20\n",
      "30/30 [==============================] - 4s 133ms/step - loss: 0.0067 - acc: 0.9997 - val_loss: 0.5474 - val_acc: 0.8301\n",
      "Epoch 14/20\n",
      "30/30 [==============================] - 4s 141ms/step - loss: 0.0392 - acc: 0.9857 - val_loss: 0.5419 - val_acc: 0.8317\n",
      "Epoch 15/20\n",
      "30/30 [==============================] - 4s 143ms/step - loss: 0.0041 - acc: 0.9999 - val_loss: 0.5723 - val_acc: 0.8321\n",
      "Epoch 16/20\n",
      "30/30 [==============================] - 4s 131ms/step - loss: 0.0022 - acc: 0.9999 - val_loss: 0.6120 - val_acc: 0.8320\n",
      "Epoch 17/20\n",
      "30/30 [==============================] - 4s 129ms/step - loss: 0.0133 - acc: 0.9942 - val_loss: 0.6819 - val_acc: 0.8134\n",
      "Epoch 18/20\n",
      "30/30 [==============================] - 4s 131ms/step - loss: 0.0024 - acc: 0.9999 - val_loss: 0.6531 - val_acc: 0.8298\n",
      "Epoch 19/20\n",
      "30/30 [==============================] - 4s 131ms/step - loss: 0.0010 - acc: 0.9999 - val_loss: 0.6861 - val_acc: 0.8299\n",
      "Epoch 20/20\n",
      "30/30 [==============================] - 4s 132ms/step - loss: 8.3966e-04 - acc: 0.9999 - val_loss: 0.7716 - val_acc: 0.8204\n"
     ]
    }
   ],
   "source": [
    "model.compile(optimizer='rmsprop',\n",
    "             loss='binary_crossentropy',\n",
    "             metrics=['acc'])\n",
    "history = model.fit(partial_x_train,\n",
    "                    partial_y_train,\n",
    "                    epochs=20,\n",
    "                    batch_size=512,\n",
    "                    validation_data=(x_val,y_val))"
   ]
  },
  {
   "cell_type": "code",
   "execution_count": 28,
   "id": "b45af848-df4f-4856-898f-8cfad84a46b7",
   "metadata": {},
   "outputs": [
    {
     "data": {
      "image/png": "[encoded data removed]",
      "text/plain": [
       "<Figure size 640x480 with 1 Axes>"
      ]
     },
     "metadata": {},
     "output_type": "display_data"
    }
   ],
   "source": [
    "import matplotlib.pyplot as plt\n",
    "\n",
    "history_dict = history.history\n",
    "loss_value = history_dict['loss']\n",
    "val_loss_value = history_dict['val_loss']\n",
    "\n",
    "acc = history_dict['acc']\n",
    "epochs = range(1,len(acc) + 1)\n",
    "\n",
    "\n",
    "plt.plot(epochs,loss_value, 'bo', label='Training loss')\n",
    "plt.plot(epochs,val_loss_value, 'b', label='Validition loss')\n",
    "plt.title('Training and Validation loss')\n",
    "plt.xlabel('Epochs')\n",
    "plt.ylabel('Loss')\n",
    "plt.legend()\n",
    "\n",
    "plt.show()"
   ]
  },
  {
   "cell_type": "code",
   "execution_count": 29,
   "id": "9a0b73f6-622d-436a-93fd-cac8bc126e81",
   "metadata": {},
   "outputs": [
    {
     "data": {
      "image/png": "[encoded data removed]",
      "text/plain": [
       "<Figure size 640x480 with 1 Axes>"
      ]
     },
     "metadata": {},
     "output_type": "display_data"
    }
   ],
   "source": [
    "plt.clf()\n",
    "\n",
    "acc_values = history_dict['acc']\n",
    "val_acc_values = history_dict['val_acc']\n",
    "plt.plot(epochs, acc, 'bo', label='Training acc')\n",
    "plt.plot(epochs, val_acc_values, 'b', label='Validation acc')\n",
    "plt.title('Training and validation accuracy')\n",
    "plt.xlabel('Epochs')\n",
    "plt.ylabel('Loss')\n",
    "plt.legend()\n",
    "plt.show()"
   ]
  },
  {
   "cell_type": "code",
   "execution_count": 44,
   "id": "2a8c34e3-73ee-4da8-8d1b-a879ba375084",
   "metadata": {},
   "outputs": [
    {
     "name": "stdout",
     "output_type": "stream",
     "text": [
      "Epoch 1/5\n",
      "391/391 [==============================] - 10s 24ms/step - loss: 0.5554 - accuracy: 0.6726\n",
      "Epoch 2/5\n",
      "391/391 [==============================] - 10s 26ms/step - loss: 0.2147 - accuracy: 0.9152\n",
      "Epoch 3/5\n",
      "391/391 [==============================] - 10s 25ms/step - loss: 0.0604 - accuracy: 0.9835\n",
      "Epoch 4/5\n",
      "391/391 [==============================] - 10s 25ms/step - loss: 0.0116 - accuracy: 0.9978\n",
      "Epoch 5/5\n",
      "391/391 [==============================] - 10s 25ms/step - loss: 0.0020 - accuracy: 0.9998\n"
     ]
    },
    {
     "data": {
      "text/plain": [
       "<keras.src.callbacks.History at 0x202934a4130>"
      ]
     },
     "execution_count": 44,
     "metadata": {},
     "output_type": "execute_result"
    }
   ],
   "source": [
    "model = models.Sequential()\n",
    "# Ajoutez une couche d'embedding pour convertir les indices en vecteurs denses\n",
    "model.add(Embedding(input_dim=10000, output_dim=128, input_length=max_sequence_length))\n",
    "model.add(layers.Flatten())  # Flatten layer to flatten the 3D tensor from Embedding layer\n",
    "model.add(layers.Dense(16, activation='relu', input_shape=(10000,)))\n",
    "model.add(layers.Dense(1, activation='sigmoid'))\n",
    "model.compile(optimizer='rmsprop',\n",
    "loss='binary_crossentropy',\n",
    "metrics=['accuracy'])\n",
    "model.fit(x_train, y_train, epochs=5, batch_size=(64))"
   ]
  },
  {
   "cell_type": "code",
   "execution_count": 45,
   "id": "ddb83836-a806-49e8-960e-aaf0c44e696c",
   "metadata": {},
   "outputs": [
    {
     "name": "stdout",
     "output_type": "stream",
     "text": [
      "782/782 [==============================] - 4s 4ms/step - loss: 0.5639 - accuracy: 0.8564\n"
     ]
    }
   ],
   "source": [
    "results = model.evaluate(x_test, y_test)"
   ]
  },
  {
   "cell_type": "code",
   "execution_count": 46,
   "id": "0d3583ea-a9a1-4b24-97c0-ad91a2257dc6",
   "metadata": {},
   "outputs": [
    {
     "data": {
      "text/plain": [
       "[0.5638649463653564, 0.8563600182533264]"
      ]
     },
     "execution_count": 46,
     "metadata": {},
     "output_type": "execute_result"
    }
   ],
   "source": [
    "results"
   ]
  },
  {
   "cell_type": "markdown",
   "id": "231bc9b4-6cf1-4d3f-8553-95047405779e",
   "metadata": {},
   "source": [
    "# predictions et confusion matrice sr tous les jeux "
   ]
  },
  {
   "cell_type": "code",
   "execution_count": 14,
   "id": "5285383c-ebf4-471a-af96-c1d64334f707",
   "metadata": {},
   "outputs": [
    {
     "name": "stdout",
     "output_type": "stream",
     "text": [
      "782/782 [==============================] - 4s 4ms/step\n",
      "313/313 [==============================] - 1s 4ms/step\n",
      "782/782 [==============================] - 3s 4ms/step\n",
      "Métriques sur l'ensemble d'entraînement :\n",
      "              precision    recall  f1-score   support\n",
      "\n",
      "         0.0       1.00      1.00      1.00     12500\n",
      "         1.0       1.00      1.00      1.00     12500\n",
      "\n",
      "    accuracy                           1.00     25000\n",
      "   macro avg       1.00      1.00      1.00     25000\n",
      "weighted avg       1.00      1.00      1.00     25000\n",
      "\n",
      "Métriques sur l'ensemble de validation :\n",
      "              precision    recall  f1-score   support\n",
      "\n",
      "         0.0       1.00      1.00      1.00      4947\n",
      "         1.0       1.00      1.00      1.00      5053\n",
      "\n",
      "    accuracy                           1.00     10000\n",
      "   macro avg       1.00      1.00      1.00     10000\n",
      "weighted avg       1.00      1.00      1.00     10000\n",
      "\n",
      "Métriques sur l'ensemble de test :\n",
      "              precision    recall  f1-score   support\n",
      "\n",
      "         0.0       0.85      0.87      0.86     12500\n",
      "         1.0       0.87      0.85      0.86     12500\n",
      "\n",
      "    accuracy                           0.86     25000\n",
      "   macro avg       0.86      0.86      0.86     25000\n",
      "weighted avg       0.86      0.86      0.86     25000\n",
      "\n",
      "Matrice de confusion sur l'ensemble d'entraînement :\n",
      "[[12492     8]\n",
      " [   21 12479]]\n",
      "Matrice de confusion sur l'ensemble de validation :\n",
      "[[4943    4]\n",
      " [   7 5046]]\n",
      "Matrice de confusion sur l'ensemble de test :\n",
      "[[10896  1604]\n",
      " [ 1907 10593]]\n"
     ]
    }
   ],
   "source": [
    "\n",
    "\n",
    "# Faire des prédictions sur les ensembles de données\n",
    "y_pred_train = model.predict(x_train)\n",
    "y_pred_val = model.predict(x_val)\n",
    "y_pred_test = model.predict(x_test)\n",
    "\n",
    "# Seuil pour la classification binaire\n",
    "threshold = 0.5\n",
    "\n",
    "# Convertir les prédictions en classes binaires\n",
    "y_pred_train_binary = (y_pred_train > threshold).astype(int)\n",
    "y_pred_val_binary = (y_pred_val > threshold).astype(int)\n",
    "y_pred_test_binary = (y_pred_test > threshold).astype(int)\n",
    "\n",
    "# Calcul des métriques\n",
    "from sklearn.metrics import classification_report, confusion_matrix\n",
    "\n",
    "print(\"Métriques sur l'ensemble d'entraînement :\")\n",
    "print(classification_report(y_train, y_pred_train_binary))\n",
    "\n",
    "print(\"Métriques sur l'ensemble de validation :\")\n",
    "print(classification_report(y_val, y_pred_val_binary))\n",
    "\n",
    "print(\"Métriques sur l'ensemble de test :\")\n",
    "print(classification_report(y_test, y_pred_test_binary))\n",
    "\n",
    "# Matrices de confusion sur les trois ensembles\n",
    "confusion_matrix_train = confusion_matrix(y_train, y_pred_train_binary)\n",
    "confusion_matrix_val = confusion_matrix(y_val, y_pred_val_binary)\n",
    "confusion_matrix_test = confusion_matrix(y_test, y_pred_test_binary)\n",
    "\n",
    "print(\"Matrice de confusion sur l'ensemble d'entraînement :\")\n",
    "print(confusion_matrix_train)\n",
    "\n",
    "print(\"Matrice de confusion sur l'ensemble de validation :\")\n",
    "print(confusion_matrix_val)\n",
    "\n",
    "print(\"Matrice de confusion sur l'ensemble de test :\")\n",
    "print(confusion_matrix_test)\n"
   ]
  },
  {
   "cell_type": "markdown",
   "id": "d587e763-5b3e-4b93-8f67-615e509d5cc4",
   "metadata": {},
   "source": [
    "# Embetting part 2"
   ]
  },
  {
   "cell_type": "code",
   "execution_count": 19,
   "id": "a0ea06ba-1eda-4ca6-b634-bf936d456396",
   "metadata": {},
   "outputs": [
    {
     "name": "stdout",
     "output_type": "stream",
     "text": [
      "Epoch 1/10\n",
      "40/40 [==============================] - 9s 210ms/step - loss: 0.6889 - accuracy: 0.6016 - val_loss: 0.6809 - val_accuracy: 0.6878\n",
      "Epoch 2/10\n",
      "40/40 [==============================] - 9s 217ms/step - loss: 0.6618 - accuracy: 0.7056 - val_loss: 0.6294 - val_accuracy: 0.7442\n",
      "Epoch 3/10\n",
      "40/40 [==============================] - 8s 207ms/step - loss: 0.5848 - accuracy: 0.7782 - val_loss: 0.5304 - val_accuracy: 0.8014\n",
      "Epoch 4/10\n",
      "40/40 [==============================] - 8s 206ms/step - loss: 0.4761 - accuracy: 0.8346 - val_loss: 0.4339 - val_accuracy: 0.8474\n",
      "Epoch 5/10\n",
      "40/40 [==============================] - 8s 209ms/step - loss: 0.3832 - accuracy: 0.8690 - val_loss: 0.3737 - val_accuracy: 0.8660\n",
      "Epoch 6/10\n",
      "40/40 [==============================] - 9s 217ms/step - loss: 0.3255 - accuracy: 0.8848 - val_loss: 0.3416 - val_accuracy: 0.8688\n",
      "Epoch 7/10\n",
      "40/40 [==============================] - 8s 207ms/step - loss: 0.2852 - accuracy: 0.8991 - val_loss: 0.3183 - val_accuracy: 0.8792\n",
      "Epoch 8/10\n",
      "40/40 [==============================] - 8s 205ms/step - loss: 0.2560 - accuracy: 0.9106 - val_loss: 0.3039 - val_accuracy: 0.8814\n",
      "Epoch 9/10\n",
      "40/40 [==============================] - 8s 202ms/step - loss: 0.2324 - accuracy: 0.9188 - val_loss: 0.2949 - val_accuracy: 0.8854\n",
      "Epoch 10/10\n",
      "40/40 [==============================] - 8s 205ms/step - loss: 0.2131 - accuracy: 0.9252 - val_loss: 0.2874 - val_accuracy: 0.8874\n",
      "782/782 [==============================] - 5s 6ms/step - loss: 0.2957 - accuracy: 0.8814\n",
      "Test Loss: 0.2957\n",
      "Test Accuracy: 0.8814\n"
     ]
    }
   ],
   "source": [
    "import tensorflow as tf\n",
    "from tensorflow import keras\n",
    "from tensorflow.keras.layers import Embedding, GlobalAveragePooling1D, Dense\n",
    "\n",
    "# Chargement des données IMDB\n",
    "(train_data, train_labels), (test_data, test_labels) = keras.datasets.imdb.load_data(num_words=10000)\n",
    "\n",
    "# Pré-traitement des données : tronquer ou remplir les séquences\n",
    "max_sequence_length = 500  # Longueur maximale d'une séquence\n",
    "train_data = keras.preprocessing.sequence.pad_sequences(train_data, maxlen=max_sequence_length)\n",
    "test_data = keras.preprocessing.sequence.pad_sequences(test_data, maxlen=max_sequence_length)\n",
    "\n",
    "# Création du modèle\n",
    "model = keras.Sequential([\n",
    "    Embedding(input_dim=10000, output_dim=256, input_length=max_sequence_length),  # Couche d'embedding Word2Vec\n",
    "    GlobalAveragePooling1D(),  # Réduction de la dimensionnalité\n",
    "    Dense(16, activation='relu'),\n",
    "    Dense(1, activation='sigmoid')\n",
    "])\n",
    "\n",
    "# Compilation du modèle\n",
    "model.compile(optimizer='adam',\n",
    "              loss='binary_crossentropy',\n",
    "              metrics=['accuracy'])\n",
    "\n",
    "# Entraînement du modèle\n",
    "history = model.fit(train_data, train_labels, epochs=10, batch_size=512, validation_split=0.2)\n",
    "\n",
    "# Évaluation du modèle sur l'ensemble de test\n",
    "test_loss, test_accuracy = model.evaluate(test_data, test_labels)\n",
    "print(f'Test Loss: {test_loss:.4f}')\n",
    "print(f'Test Accuracy: {test_accuracy:.4f}')\n"
   ]
  },
  {
   "cell_type": "code",
   "execution_count": null,
   "id": "ebeac47b-52cd-4883-83bd-c6e98d07d74f",
   "metadata": {},
   "outputs": [],
   "source": []
  },
  {
   "cell_type": "code",
   "execution_count": null,
   "id": "d560ca99-16c1-4ea5-92e8-37a880e6eb81",
   "metadata": {},
   "outputs": [],
   "source": []
  }
 ],
 "metadata": {
  "kernelspec": {
   "display_name": "Python 3 (ipykernel)",
   "language": "python",
   "name": "python3"
  },
  "language_info": {
   "codemirror_mode": {
    "name": "ipython",
    "version": 3
   },
   "file_extension": ".py",
   "mimetype": "text/x-python",
   "name": "python",
   "nbconvert_exporter": "python",
   "pygments_lexer": "ipython3",
   "version": "3.10.9"
  }
 },
 "nbformat": 4,
 "nbformat_minor": 5
}
