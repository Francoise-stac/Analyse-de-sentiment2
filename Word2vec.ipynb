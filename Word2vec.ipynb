{
 "cells": [
  {
   "cell_type": "code",
   "execution_count": 1,
   "id": "9e585990-9500-4056-8f84-ad75f1127af4",
   "metadata": {},
   "outputs": [],
   "source": [
    "from keras.datasets import imdb\n",
    "from keras.models import Sequential\n",
    "from keras.layers import Embedding, LSTM, Dense\n",
    "from keras.preprocessing.sequence import pad_sequences\n"
   ]
  },
  {
   "cell_type": "code",
   "execution_count": 2,
   "id": "b4dcf70b-e820-4fa4-8e3e-887714a0896d",
   "metadata": {},
   "outputs": [],
   "source": [
    "from keras.datasets import imdb\n",
    "\n",
    "(train_samples, train_labels), (test_samples, test_labels) = imdb.load_data(num_words=10000)\n"
   ]
  },
  {
   "cell_type": "code",
   "execution_count": 3,
   "id": "73b3d5c5-899c-42ff-820a-6f1da75d5038",
   "metadata": {},
   "outputs": [],
   "source": [
    "# Chargez les données IMDb avec les commentaires textuels\n",
    "(train_samples, train_labels), (test_samples, test_labels) = imdb.load_data(num_words=10000)\n",
    "\n",
    "# Utilisez pad_sequences pour obtenir des séquences de longueur uniforme\n",
    "max_sequence_length = 500  # Par exemple, fixez la longueur maximale des séquences à 200\n",
    "train_samples = pad_sequences(train_samples, maxlen=max_sequence_length)\n",
    "test_samples = pad_sequences(test_samples, maxlen=max_sequence_length)\n"
   ]
  },
  {
   "cell_type": "code",
   "execution_count": 3,
   "id": "a95e3e73-3cd1-4eff-8b06-87ccbff7c472",
   "metadata": {},
   "outputs": [],
   "source": [
    "from gensim.models import Word2Vec\n",
    "from tensorflow.keras.preprocessing.text import Tokenizer\n",
    "from tensorflow.keras.preprocessing.sequence import pad_sequences\n",
    "\n",
    "from gensim.models import KeyedVectors\n",
    "import gensim.downloader as api\n",
    "\n",
    "# Download the Word2Vec model (this might take a while)\n",
    "word2vec_model = api.load('word2vec-google-news-300')\n",
    "\n",
    "\n",
    "# word2vec_model = KeyedVectors.load_word2vec_format('Documents/17_NLP/GoogleNews-vectors-negative300.bin', binary=True)\n",
    "\n"
   ]
  },
  {
   "cell_type": "code",
   "execution_count": 10,
   "id": "a28fbadd-b88f-41ef-9083-3a85732f8e46",
   "metadata": {},
   "outputs": [
    {
     "ename": "OSError",
     "evalue": "[Errno 22] Invalid argument: 'Documents\\x0f_NLP\\\\GoogleNews-vectors-negative300.bin'",
     "output_type": "error",
     "traceback": [
      "\u001b[1;31m---------------------------------------------------------------------------\u001b[0m",
      "\u001b[1;31mOSError\u001b[0m                                   Traceback (most recent call last)",
      "Cell \u001b[1;32mIn[10], line 2\u001b[0m\n\u001b[0;32m      1\u001b[0m \u001b[38;5;66;03m# Save the downloaded model to a file\u001b[39;00m\n\u001b[1;32m----> 2\u001b[0m \u001b[43mword2vec_model\u001b[49m\u001b[38;5;241;43m.\u001b[39;49m\u001b[43msave_word2vec_format\u001b[49m\u001b[43m(\u001b[49m\u001b[38;5;124;43m'\u001b[39;49m\u001b[38;5;124;43mDocuments\u001b[39;49m\u001b[38;5;130;43;01m\\17\u001b[39;49;00m\u001b[38;5;124;43m_NLP\u001b[39;49m\u001b[38;5;124;43m\\\u001b[39;49m\u001b[38;5;124;43mGoogleNews-vectors-negative300.bin\u001b[39;49m\u001b[38;5;124;43m'\u001b[39;49m\u001b[43m,\u001b[49m\u001b[43m \u001b[49m\u001b[43mbinary\u001b[49m\u001b[38;5;241;43m=\u001b[39;49m\u001b[38;5;28;43;01mTrue\u001b[39;49;00m\u001b[43m)\u001b[49m\n",
      "File \u001b[1;32m~\\anaconda3\\lib\\site-packages\\gensim\\models\\keyedvectors.py:1662\u001b[0m, in \u001b[0;36mKeyedVectors.save_word2vec_format\u001b[1;34m(self, fname, fvocab, binary, total_vec, write_header, prefix, append, sort_attr)\u001b[0m\n\u001b[0;32m   1659\u001b[0m keys_to_write \u001b[38;5;241m=\u001b[39m itertools\u001b[38;5;241m.\u001b[39mchain(\u001b[38;5;28mrange\u001b[39m(\u001b[38;5;241m0\u001b[39m, index_id_count), store_order_vocab_keys)\n\u001b[0;32m   1661\u001b[0m \u001b[38;5;66;03m# Store the actual vectors to the output file, in the order defined by sort_attr.\u001b[39;00m\n\u001b[1;32m-> 1662\u001b[0m \u001b[38;5;28;01mwith\u001b[39;00m \u001b[43mutils\u001b[49m\u001b[38;5;241;43m.\u001b[39;49m\u001b[43mopen\u001b[49m\u001b[43m(\u001b[49m\u001b[43mfname\u001b[49m\u001b[43m,\u001b[49m\u001b[43m \u001b[49m\u001b[43mmode\u001b[49m\u001b[43m)\u001b[49m \u001b[38;5;28;01mas\u001b[39;00m fout:\n\u001b[0;32m   1663\u001b[0m     \u001b[38;5;28;01mif\u001b[39;00m write_header:\n\u001b[0;32m   1664\u001b[0m         fout\u001b[38;5;241m.\u001b[39mwrite(\u001b[38;5;124mf\u001b[39m\u001b[38;5;124m\"\u001b[39m\u001b[38;5;132;01m{\u001b[39;00mtotal_vec\u001b[38;5;132;01m}\u001b[39;00m\u001b[38;5;124m \u001b[39m\u001b[38;5;132;01m{\u001b[39;00m\u001b[38;5;28mself\u001b[39m\u001b[38;5;241m.\u001b[39mvector_size\u001b[38;5;132;01m}\u001b[39;00m\u001b[38;5;130;01m\\n\u001b[39;00m\u001b[38;5;124m\"\u001b[39m\u001b[38;5;241m.\u001b[39mencode(\u001b[38;5;124m'\u001b[39m\u001b[38;5;124mutf8\u001b[39m\u001b[38;5;124m'\u001b[39m))\n",
      "File \u001b[1;32m~\\anaconda3\\lib\\site-packages\\smart_open\\smart_open_lib.py:188\u001b[0m, in \u001b[0;36mopen\u001b[1;34m(uri, mode, buffering, encoding, errors, newline, closefd, opener, ignore_ext, compression, transport_params)\u001b[0m\n\u001b[0;32m    185\u001b[0m \u001b[38;5;28;01mif\u001b[39;00m transport_params \u001b[38;5;129;01mis\u001b[39;00m \u001b[38;5;28;01mNone\u001b[39;00m:\n\u001b[0;32m    186\u001b[0m     transport_params \u001b[38;5;241m=\u001b[39m {}\n\u001b[1;32m--> 188\u001b[0m fobj \u001b[38;5;241m=\u001b[39m \u001b[43m_shortcut_open\u001b[49m\u001b[43m(\u001b[49m\n\u001b[0;32m    189\u001b[0m \u001b[43m    \u001b[49m\u001b[43muri\u001b[49m\u001b[43m,\u001b[49m\n\u001b[0;32m    190\u001b[0m \u001b[43m    \u001b[49m\u001b[43mmode\u001b[49m\u001b[43m,\u001b[49m\n\u001b[0;32m    191\u001b[0m \u001b[43m    \u001b[49m\u001b[43mcompression\u001b[49m\u001b[38;5;241;43m=\u001b[39;49m\u001b[43mcompression\u001b[49m\u001b[43m,\u001b[49m\n\u001b[0;32m    192\u001b[0m \u001b[43m    \u001b[49m\u001b[43mbuffering\u001b[49m\u001b[38;5;241;43m=\u001b[39;49m\u001b[43mbuffering\u001b[49m\u001b[43m,\u001b[49m\n\u001b[0;32m    193\u001b[0m \u001b[43m    \u001b[49m\u001b[43mencoding\u001b[49m\u001b[38;5;241;43m=\u001b[39;49m\u001b[43mencoding\u001b[49m\u001b[43m,\u001b[49m\n\u001b[0;32m    194\u001b[0m \u001b[43m    \u001b[49m\u001b[43merrors\u001b[49m\u001b[38;5;241;43m=\u001b[39;49m\u001b[43merrors\u001b[49m\u001b[43m,\u001b[49m\n\u001b[0;32m    195\u001b[0m \u001b[43m    \u001b[49m\u001b[43mnewline\u001b[49m\u001b[38;5;241;43m=\u001b[39;49m\u001b[43mnewline\u001b[49m\u001b[43m,\u001b[49m\n\u001b[0;32m    196\u001b[0m \u001b[43m\u001b[49m\u001b[43m)\u001b[49m\n\u001b[0;32m    197\u001b[0m \u001b[38;5;28;01mif\u001b[39;00m fobj \u001b[38;5;129;01mis\u001b[39;00m \u001b[38;5;129;01mnot\u001b[39;00m \u001b[38;5;28;01mNone\u001b[39;00m:\n\u001b[0;32m    198\u001b[0m     \u001b[38;5;28;01mreturn\u001b[39;00m fobj\n",
      "File \u001b[1;32m~\\anaconda3\\lib\\site-packages\\smart_open\\smart_open_lib.py:361\u001b[0m, in \u001b[0;36m_shortcut_open\u001b[1;34m(uri, mode, compression, buffering, encoding, errors, newline)\u001b[0m\n\u001b[0;32m    358\u001b[0m \u001b[38;5;28;01mif\u001b[39;00m errors \u001b[38;5;129;01mand\u001b[39;00m \u001b[38;5;124m'\u001b[39m\u001b[38;5;124mb\u001b[39m\u001b[38;5;124m'\u001b[39m \u001b[38;5;129;01mnot\u001b[39;00m \u001b[38;5;129;01min\u001b[39;00m mode:\n\u001b[0;32m    359\u001b[0m     open_kwargs[\u001b[38;5;124m'\u001b[39m\u001b[38;5;124merrors\u001b[39m\u001b[38;5;124m'\u001b[39m] \u001b[38;5;241m=\u001b[39m errors\n\u001b[1;32m--> 361\u001b[0m \u001b[38;5;28;01mreturn\u001b[39;00m _builtin_open(local_path, mode, buffering\u001b[38;5;241m=\u001b[39mbuffering, \u001b[38;5;241m*\u001b[39m\u001b[38;5;241m*\u001b[39mopen_kwargs)\n",
      "\u001b[1;31mOSError\u001b[0m: [Errno 22] Invalid argument: 'Documents\\x0f_NLP\\\\GoogleNews-vectors-negative300.bin'"
     ]
    }
   ],
   "source": [
    "# Save the downloaded model to a file\n",
    "word2vec_model.save_word2vec_format('Documents\\17_NLP\\GoogleNews-vectors-negative300.bin', binary=True)\n"
   ]
  },
  {
   "cell_type": "code",
   "execution_count": null,
   "id": "83d92eb3-5499-4da5-9f19-fddd0ffd71ef",
   "metadata": {},
   "outputs": [],
   "source": [
    "\n",
    "# Create a tokenizer and fit on your IMDB data\n",
    "tokenizer = Tokenizer(num_words=10000)\n",
    "tokenizer.fit_on_texts(train_data)\n",
    "\n",
    "# Create an embedding matrix\n",
    "embedding_matrix = np.zeros((len(tokenizer.word_index) + 1, 100))  # Assuming Word2Vec embeddings are of size 100\n",
    "for word, i in tokenizer.word_index.items():\n",
    "    if word in word2vec_model:\n",
    "        embedding_matrix[i] = word2vec_model[word]\n",
    "\n",
    "# Modify your model to use the embedding matrix\n",
    "model = models.Sequential()\n",
    "model.add(layers.Embedding(input_dim=len(tokenizer.word_index) + 1, output_dim=100, weights=[embedding_matrix], input_length=max_sequence_length, trainable=False))\n",
    "model.add(layers.Flatten())\n",
    "model.add(layers.Dense(16, activation='relu'))\n",
    "model.add(layers.Dense(16, activation='relu'))\n",
    "model.add(layers.Dense(16, activation='relu'))\n",
    "model.add(layers.Dense(1, activation='sigmoid'))\n",
    "\n",
    "# Compile and fit your model as before"
   ]
  },
  {
   "cell_type": "code",
   "execution_count": null,
   "id": "719b773f-f18e-45d9-bd84-1b4321f306b1",
   "metadata": {},
   "outputs": [],
   "source": []
  },
  {
   "cell_type": "code",
   "execution_count": null,
   "id": "26111cdf-ed07-4311-8f2b-8c5ce0a1cbd7",
   "metadata": {},
   "outputs": [],
   "source": []
  },
  {
   "cell_type": "code",
   "execution_count": 5,
   "id": "7b6cbb82-4e96-4b6f-8fe3-6923580c1d2f",
   "metadata": {},
   "outputs": [],
   "source": [
    "from keras import models\n",
    "from keras import layers\n",
    "from keras.layers import Embedding, LSTM, Dense,GlobalAveragePooling1D\n",
    "\n",
    "model = Sequential()\n",
    "\n",
    "# Ajoutez une couche d'embedding pour convertir les indices en vecteurs denses\n",
    "model.add(Embedding(input_dim=10000, output_dim=128, input_length=max_sequence_length))\n",
    "# model.add(layers.Flatten())  # Flatten layer to flatten the 3D tensor from Embedding layer\n",
    "# # Ajoutez une couche LSTM pour le traitement séquentiel\n",
    "# model.add(LSTM(64))\n",
    "model.add(GlobalAveragePooling1D())\n",
    "model.add(layers.Dense(16, activation='relu', input_shape=(10000,)))\n",
    "# Ajoutez une couche de sortie\n",
    "model.add(Dense(1, activation='sigmoid'))\n"
   ]
  },
  {
   "cell_type": "code",
   "execution_count": 6,
   "id": "ac4ab919-f915-473d-a0e2-cb81e6002e2a",
   "metadata": {},
   "outputs": [],
   "source": [
    "model.compile(optimizer='adam', loss='binary_crossentropy', metrics=['accuracy'])\n"
   ]
  },
  {
   "cell_type": "code",
   "execution_count": 7,
   "id": "0d95c9e9-090b-4340-90a2-c943b669592b",
   "metadata": {},
   "outputs": [
    {
     "name": "stdout",
     "output_type": "stream",
     "text": [
      "Epoch 1/5\n",
      "313/313 [==============================] - 10s 30ms/step - loss: 0.6007 - accuracy: 0.7200 - val_loss: 0.4242 - val_accuracy: 0.8528\n",
      "Epoch 2/5\n",
      "313/313 [==============================] - 9s 29ms/step - loss: 0.3256 - accuracy: 0.8802 - val_loss: 0.3096 - val_accuracy: 0.8790\n",
      "Epoch 3/5\n",
      "313/313 [==============================] - 9s 29ms/step - loss: 0.2412 - accuracy: 0.9107 - val_loss: 0.2857 - val_accuracy: 0.8876\n",
      "Epoch 4/5\n",
      "313/313 [==============================] - 9s 29ms/step - loss: 0.1984 - accuracy: 0.9282 - val_loss: 0.2790 - val_accuracy: 0.8936\n",
      "Epoch 5/5\n",
      "313/313 [==============================] - 9s 29ms/step - loss: 0.1700 - accuracy: 0.9390 - val_loss: 0.2823 - val_accuracy: 0.8954\n"
     ]
    },
    {
     "data": {
      "text/plain": [
       "<keras.src.callbacks.History at 0x17022e6bfd0>"
      ]
     },
     "execution_count": 7,
     "metadata": {},
     "output_type": "execute_result"
    }
   ],
   "source": [
    "model.fit(train_samples, train_labels, epochs=5, batch_size=64, validation_split=0.2)\n"
   ]
  },
  {
   "cell_type": "code",
   "execution_count": 8,
   "id": "37ae3dec-c2b7-48bc-8eae-12d465f50e5a",
   "metadata": {},
   "outputs": [
    {
     "name": "stdout",
     "output_type": "stream",
     "text": [
      "782/782 [==============================] - 3s 4ms/step - loss: 0.2870 - accuracy: 0.8873\n",
      "Test Loss: 0.2870\n",
      "Test Accuracy: 0.8873\n"
     ]
    }
   ],
   "source": [
    "test_loss, test_accuracy = model.evaluate(test_samples, test_labels)\n",
    "print(f\"Test Loss: {test_loss:.4f}\")\n",
    "print(f\"Test Accuracy: {test_accuracy:.4f}\")\n"
   ]
  },
  {
   "cell_type": "code",
   "execution_count": 9,
   "id": "7106f8b6-c88f-4fba-8d87-842d5070aef2",
   "metadata": {},
   "outputs": [
    {
     "name": "stdout",
     "output_type": "stream",
     "text": [
      "782/782 [==============================] - 3s 4ms/step\n"
     ]
    },
    {
     "data": {
      "image/png": "[encoded data removed]",
      "text/plain": [
       "<Figure size 800x600 with 2 Axes>"
      ]
     },
     "metadata": {},
     "output_type": "display_data"
    }
   ],
   "source": [
    "import numpy as np\n",
    "from sklearn.metrics import confusion_matrix\n",
    "import matplotlib.pyplot as plt\n",
    "import seaborn as sns\n",
    "\n",
    "# Prédisez les étiquettes pour les données de test\n",
    "test_predictions = model.predict(test_samples)\n",
    "test_predictions = (test_predictions > 0.5).astype(int)  # Convertissez les probabilités en classes binaires (0 ou 1)\n",
    "\n",
    "# Créez une matrice de confusion\n",
    "cm = confusion_matrix(test_labels, test_predictions)\n",
    "\n",
    "# Affichez la matrice de confusion à l'aide de seaborn\n",
    "plt.figure(figsize=(8, 6))\n",
    "sns.heatmap(cm, annot=True, fmt='d', cmap='Blues', xticklabels=['Négatif', 'Positif'], yticklabels=['Négatif', 'Positif'])\n",
    "plt.xlabel('Prédictions')\n",
    "plt.ylabel('Vraies étiquettes')\n",
    "plt.title('Matrice de Confusion')\n",
    "plt.show()\n"
   ]
  },
  {
   "cell_type": "code",
   "execution_count": null,
   "id": "839fc5cb-2a61-45a5-9c3c-00c093b69ab6",
   "metadata": {},
   "outputs": [],
   "source": []
  }
 ],
 "metadata": {
  "kernelspec": {
   "display_name": "Python 3 (ipykernel)",
   "language": "python",
   "name": "python3"
  },
  "language_info": {
   "codemirror_mode": {
    "name": "ipython",
    "version": 3
   },
   "file_extension": ".py",
   "mimetype": "text/x-python",
   "name": "python",
   "nbconvert_exporter": "python",
   "pygments_lexer": "ipython3",
   "version": "3.10.9"
  }
 },
 "nbformat": 4,
 "nbformat_minor": 5
}
